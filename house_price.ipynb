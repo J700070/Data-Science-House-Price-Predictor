{
 "cells": [
  {
   "cell_type": "markdown",
   "id": "4ad724d4",
   "metadata": {},
   "source": [
    "# Análisis de precios de casas\n",
    "- ¿Qué factores afectan al precio de las casas?\n",
    "    - ¿Qué factores incrementan el precio y en qué medida?\n",
    "    - ¿QUé factores decrementan el precio y en qué medida?\n",
    "- ¿Podemos predecir el precio de una casa?"
   ]
  },
  {
   "cell_type": "markdown",
   "id": "8397d2a6",
   "metadata": {},
   "source": [
    "# Data Understanding\n"
   ]
  },
  {
   "cell_type": "code",
   "execution_count": null,
   "id": "fb2891cf",
   "metadata": {},
   "outputs": [],
   "source": [
    "import pandas as pd\n",
    "import matplotlib.pyplot as plt\n",
    "import seaborn as sns\n",
    "from sklearn.ensemble import RandomForestRegressor\n",
    "from sklearn.metrics import mean_absolute_error\n",
    "from sklearn.model_selection import train_test_split\n",
    "from sklearn.impute import SimpleImputer\n",
    "from sklearn.preprocessing import OneHotEncoder\n",
    "from sklearn.compose import ColumnTransformer\n",
    "from sklearn.pipeline import Pipeline\n",
    "from sklearn.model_selection import cross_val_score\n",
    "import numpy as np"
   ]
  },
  {
   "cell_type": "code",
   "execution_count": null,
   "id": "3761f772",
   "metadata": {},
   "outputs": [],
   "source": [
    "house_data = pd.read_csv('melb_data.csv') "
   ]
  },
  {
   "cell_type": "code",
   "execution_count": null,
   "id": "5a101c41",
   "metadata": {},
   "outputs": [],
   "source": [
    "house_data.shape"
   ]
  },
  {
   "cell_type": "code",
   "execution_count": null,
   "id": "778a8996",
   "metadata": {},
   "outputs": [],
   "source": [
    "house_data.columns.values"
   ]
  },
  {
   "cell_type": "code",
   "execution_count": null,
   "id": "862076b2",
   "metadata": {},
   "outputs": [],
   "source": [
    "house_data.head()"
   ]
  },
  {
   "cell_type": "code",
   "execution_count": null,
   "id": "f4d2d483",
   "metadata": {
    "scrolled": true
   },
   "outputs": [],
   "source": [
    "house_data.describe()"
   ]
  },
  {
   "cell_type": "code",
   "execution_count": null,
   "id": "afea6ad9",
   "metadata": {},
   "outputs": [],
   "source": [
    "# How old is the newest home?\n",
    "newest_home_age = 2022 - house_data['YearBuilt'].max()\n",
    "# How old is the oldest home?\n",
    "oldest_home_age = 2022 - house_data['YearBuilt'].min()\n",
    "\n",
    "print(\"Newest home age: {0}\".format(newest_home_age))\n",
    "print(\"Old home age: {0}\".format(oldest_home_age))"
   ]
  },
  {
   "cell_type": "code",
   "execution_count": null,
   "id": "d5033bf6",
   "metadata": {},
   "outputs": [],
   "source": [
    "house_data.dtypes"
   ]
  },
  {
   "cell_type": "code",
   "execution_count": null,
   "id": "d40c053e",
   "metadata": {},
   "outputs": [],
   "source": [
    "house_data.isnull().sum()"
   ]
  },
  {
   "cell_type": "code",
   "execution_count": null,
   "id": "5445e34f",
   "metadata": {},
   "outputs": [],
   "source": [
    "missing = (house_data.isnull().sum())*100/house_data.shape[0]\n",
    "missing"
   ]
  },
  {
   "cell_type": "code",
   "execution_count": null,
   "id": "e90a8c49",
   "metadata": {},
   "outputs": [],
   "source": [
    "# Faltan muchos datos en 'BuildingArea', 'YearBuilt', 'CouncilArea' y unos pocos en 'Car'\n",
    "house_data[['Car','BuildingArea','YearBuilt','CouncilArea']]"
   ]
  },
  {
   "cell_type": "code",
   "execution_count": null,
   "id": "03d01309",
   "metadata": {},
   "outputs": [],
   "source": [
    "# Dropeamos las rows que no tengan council area dado que no representa un porcentaje elevado\n",
    "house_data = house_data.dropna(subset=['CouncilArea'])"
   ]
  },
  {
   "cell_type": "code",
   "execution_count": null,
   "id": "b1250661",
   "metadata": {},
   "outputs": [],
   "source": [
    "house_data['CouncilArea']"
   ]
  },
  {
   "cell_type": "code",
   "execution_count": null,
   "id": "05715500",
   "metadata": {},
   "outputs": [],
   "source": [
    "y = house_data.Price.copy()\n",
    "\n",
    "# drop 'Price' column for the features\n",
    "house_data.drop('Price', axis=1, inplace=True)"
   ]
  },
  {
   "cell_type": "code",
   "execution_count": null,
   "id": "ff444a5a",
   "metadata": {},
   "outputs": [],
   "source": [
    "numerical_cols = [cname for cname in house_data.columns if house_data[cname].dtype in ['int64', 'float64']]"
   ]
  },
  {
   "cell_type": "code",
   "execution_count": null,
   "id": "bee55179",
   "metadata": {},
   "outputs": [],
   "source": [
    "categorical_cols = [cname for cname in house_data.columns if house_data[cname].dtype in ['object']]"
   ]
  },
  {
   "cell_type": "code",
   "execution_count": null,
   "id": "07447d9d",
   "metadata": {},
   "outputs": [],
   "source": [
    "my_cols = categorical_cols + numerical_cols\n",
    "X = house_data[my_cols].copy()"
   ]
  },
  {
   "cell_type": "code",
   "execution_count": null,
   "id": "52b6032a",
   "metadata": {},
   "outputs": [],
   "source": [
    "# Preprocessing for numerical data\n",
    "numerical_transformer = SimpleImputer(strategy='constant')\n",
    "\n",
    "# Preprocessing for categorical data\n",
    "categorical_transformer = Pipeline(steps=[\n",
    "    ('imputer', SimpleImputer(strategy='most_frequent')),\n",
    "    ('onehot', OneHotEncoder(handle_unknown='ignore'))\n",
    "])\n",
    "\n",
    "# Bundle preprocessing for numerical and categorical data\n",
    "preprocessor = ColumnTransformer(\n",
    "    transformers=[\n",
    "        ('num', numerical_transformer, numerical_cols),\n",
    "        ('cat', categorical_transformer, categorical_cols)\n",
    "    ])"
   ]
  },
  {
   "cell_type": "code",
   "execution_count": null,
   "id": "9511afab",
   "metadata": {},
   "outputs": [],
   "source": [
    "# Bundle preprocessing and modeling code in a pipeline\n",
    "my_pipeline = Pipeline(steps=[('preprocessor', preprocessor),\n",
    "                              ('model', RandomForestRegressor(n_estimators=100,random_state=0))\n",
    "                             ])\n",
    "\n",
    "scores = -1 * cross_val_score(my_pipeline, X, y, cv=5, scoring='neg_mean_absolute_error', error_score='raise')\n"
   ]
  },
  {
   "cell_type": "code",
   "execution_count": null,
   "id": "d76a8866",
   "metadata": {},
   "outputs": [],
   "source": [
    "print(\"Average score:\\n\", scores.mean())"
   ]
  }
 ],
 "metadata": {
  "kernelspec": {
   "display_name": "Python 3 (ipykernel)",
   "language": "python",
   "name": "python3"
  },
  "language_info": {
   "codemirror_mode": {
    "name": "ipython",
    "version": 3
   },
   "file_extension": ".py",
   "mimetype": "text/x-python",
   "name": "python",
   "nbconvert_exporter": "python",
   "pygments_lexer": "ipython3",
   "version": "3.9.7"
  }
 },
 "nbformat": 4,
 "nbformat_minor": 5
}
